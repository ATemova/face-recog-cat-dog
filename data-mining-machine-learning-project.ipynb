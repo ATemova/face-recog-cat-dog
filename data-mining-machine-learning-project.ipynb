{
 "cells": [
  {
   "cell_type": "markdown",
   "id": "c1c20343",
   "metadata": {
    "papermill": {
     "duration": 0.003025,
     "end_time": "2024-02-26T20:51:14.009793",
     "exception": false,
     "start_time": "2024-02-26T20:51:14.006768",
     "status": "completed"
    },
    "tags": []
   },
   "source": [
    "# Exploring the use of Animal Faces dataset\n",
    "\n",
    "## Importing basic packages\n",
    "- numpy: computiong library for large/multidimensioanl array and functions\n",
    "- pandas: data analysis and data manipulation"
   ]
  },
  {
   "cell_type": "code",
   "execution_count": 1,
   "id": "c0e9b23e",
   "metadata": {
    "execution": {
     "iopub.execute_input": "2024-02-26T20:51:14.017365Z",
     "iopub.status.busy": "2024-02-26T20:51:14.016538Z",
     "iopub.status.idle": "2024-02-26T20:51:14.834738Z",
     "shell.execute_reply": "2024-02-26T20:51:14.833815Z"
    },
    "papermill": {
     "duration": 0.824843,
     "end_time": "2024-02-26T20:51:14.837320",
     "exception": false,
     "start_time": "2024-02-26T20:51:14.012477",
     "status": "completed"
    },
    "tags": []
   },
   "outputs": [],
   "source": [
    "import numpy as np\n",
    "import pandas as pd"
   ]
  },
  {
   "cell_type": "markdown",
   "id": "358e3ac7",
   "metadata": {
    "papermill": {
     "duration": 0.002056,
     "end_time": "2024-02-26T20:51:14.841829",
     "exception": false,
     "start_time": "2024-02-26T20:51:14.839773",
     "status": "completed"
    },
    "tags": []
   },
   "source": [
    "For AI modeling there are two main libraries:\n",
    "- Tensoflow - Google brain\n",
    "- Pytorch - Meta AI"
   ]
  },
  {
   "cell_type": "code",
   "execution_count": 2,
   "id": "1ece1c94",
   "metadata": {
    "execution": {
     "iopub.execute_input": "2024-02-26T20:51:14.848269Z",
     "iopub.status.busy": "2024-02-26T20:51:14.847333Z",
     "iopub.status.idle": "2024-02-26T20:51:33.596296Z",
     "shell.execute_reply": "2024-02-26T20:51:33.594984Z"
    },
    "papermill": {
     "duration": 18.755107,
     "end_time": "2024-02-26T20:51:33.599129",
     "exception": false,
     "start_time": "2024-02-26T20:51:14.844022",
     "status": "completed"
    },
    "tags": []
   },
   "outputs": [
    {
     "name": "stderr",
     "output_type": "stream",
     "text": [
      "2024-02-26 20:51:16.885381: E external/local_xla/xla/stream_executor/cuda/cuda_dnn.cc:9261] Unable to register cuDNN factory: Attempting to register factory for plugin cuDNN when one has already been registered\n",
      "2024-02-26 20:51:16.885520: E external/local_xla/xla/stream_executor/cuda/cuda_fft.cc:607] Unable to register cuFFT factory: Attempting to register factory for plugin cuFFT when one has already been registered\n",
      "2024-02-26 20:51:17.036158: E external/local_xla/xla/stream_executor/cuda/cuda_blas.cc:1515] Unable to register cuBLAS factory: Attempting to register factory for plugin cuBLAS when one has already been registered\n"
     ]
    }
   ],
   "source": [
    "import tensorflow as tf \n",
    "import torch as pt"
   ]
  }
 ],
 "metadata": {
  "kaggle": {
   "accelerator": "none",
   "dataSources": [],
   "dockerImageVersionId": 30648,
   "isGpuEnabled": false,
   "isInternetEnabled": true,
   "language": "python",
   "sourceType": "notebook"
  },
  "kernelspec": {
   "display_name": "Python 3",
   "language": "python",
   "name": "python3"
  },
  "language_info": {
   "codemirror_mode": {
    "name": "ipython",
    "version": 3
   },
   "file_extension": ".py",
   "mimetype": "text/x-python",
   "name": "python",
   "nbconvert_exporter": "python",
   "pygments_lexer": "ipython3",
   "version": "3.10.13"
  },
  "papermill": {
   "default_parameters": {},
   "duration": 25.066321,
   "end_time": "2024-02-26T20:51:36.143580",
   "environment_variables": {},
   "exception": null,
   "input_path": "__notebook__.ipynb",
   "output_path": "__notebook__.ipynb",
   "parameters": {},
   "start_time": "2024-02-26T20:51:11.077259",
   "version": "2.5.0"
  }
 },
 "nbformat": 4,
 "nbformat_minor": 5
}
